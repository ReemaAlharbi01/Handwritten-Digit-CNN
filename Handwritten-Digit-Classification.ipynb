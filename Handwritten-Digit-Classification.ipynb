{
  "cells": [
    {
      "cell_type": "markdown",
      "metadata": {
        "id": "sxquFBDorNn2"
      },
      "source": [
        "# Handwritten Digit Classification\n",
        "\n",
        "\n"
      ]
    },
    {
      "cell_type": "markdown",
      "metadata": {
        "id": "LFjb1WbUtzcT"
      },
      "source": [
        "## Import Libraries"
      ]
    },
    {
      "cell_type": "code",
      "execution_count": 162,
      "metadata": {
        "id": "vZuJJeZBt1NX"
      },
      "outputs": [],
      "source": [
        "# Import required libraries\n",
        "import numpy as np\n",
        "import matplotlib.pyplot as plt\n",
        "from keras.datasets import mnist\n",
        "from keras.models import Sequential\n",
        "from keras.layers import Conv2D, MaxPooling2D, Flatten, Dense\n",
        "from keras.utils import to_categorical\n",
        "from sklearn.model_selection import train_test_split\n",
        "import tensorflow as tf\n",
        "import keras\n",
        "\n"
      ]
    },
    {
      "cell_type": "markdown",
      "metadata": {
        "id": "izR8JS-irUfe"
      },
      "source": [
        "## Load the Dataset"
      ]
    },
    {
      "cell_type": "code",
      "execution_count": 173,
      "metadata": {
        "id": "tPZGpMact7Hh",
        "colab": {
          "base_uri": "https://localhost:8080/"
        },
        "outputId": "cbe2c207-c0d2-44a7-b13f-3bb612c5c014"
      },
      "outputs": [
        {
          "output_type": "stream",
          "name": "stdout",
          "text": [
            "60000 60000\n",
            "Train: X=(60000, 28, 28), y=(60000,)\n",
            "Test: X=(10000, 28, 28), y=(10000, 28, 28)\n"
          ]
        }
      ],
      "source": [
        "\n",
        "# Load the MNIST dataset\n",
        "(X_train, y_train), (X_test, y_test) =mnist.load_data()\n",
        "\n",
        "print(len(X_train), len(y_train))\n",
        "print('Train: X=%s, y=%s' % (X_train.shape, y_train.shape))\n",
        "print('Test: X=%s, y=%s' % (X_test.shape, X_test.shape))\n",
        "\n",
        "\n"
      ]
    },
    {
      "cell_type": "markdown",
      "metadata": {
        "id": "1hRAaUS5uBa5"
      },
      "source": [
        "## Data Pre-Processing"
      ]
    },
    {
      "cell_type": "code",
      "source": [
        "plt.figure(figsize=(10,10))\n",
        "for i in range(10):\n",
        "    plt.subplot(5,5,i+1)\n",
        "    plt.xticks([])\n",
        "    plt.yticks([])\n",
        "    plt.grid(False)\n",
        "    plt.imshow(X_train[i])\n",
        "    plt.xlabel(y_train[i])\n",
        "plt.show()"
      ],
      "metadata": {
        "colab": {
          "base_uri": "https://localhost:8080/",
          "height": 348
        },
        "id": "0awC1SiI-wwZ",
        "outputId": "095463e5-dfa7-4961-c2a5-d6265e7628a8"
      },
      "execution_count": 153,
      "outputs": [
        {
          "output_type": "display_data",
          "data": {
            "text/plain": [
              "<Figure size 1000x1000 with 10 Axes>"
            ],
            "image/png": "[encoded data removed]"
          },
          "metadata": {}
        }
      ]
    },
    {
      "cell_type": "code",
      "execution_count": 174,
      "metadata": {
        "id": "6PlFzdt2uAOc",
        "colab": {
          "base_uri": "https://localhost:8080/"
        },
        "outputId": "2554e34a-ed75-4e56-e5bf-f3438917ae9b"
      },
      "outputs": [
        {
          "output_type": "stream",
          "name": "stdout",
          "text": [
            "New shape of training images: (60000, 28, 28, 1)\n",
            "New shape of test images: (10000, 28, 28, 1)\n"
          ]
        }
      ],
      "source": [
        "# Normalize pixel values to the range of [0, 1]\n",
        "X_train = X_train.reshape(-1, 28, 28, 1) / 255.0\n",
        "X_test = X_test.reshape(-1, 28, 28,1) / 255.0\n",
        "\n",
        "X_train, X_test=np.array(X_train), np.array(X_test)\n",
        "\n",
        "\n",
        "y_train= to_categorical(y_train, num_classes=10)\n",
        "y_test= to_categorical(y_test, num_classes=10)\n",
        "\n",
        "\n",
        "print(\"New shape of training images:\", X_train.shape)\n",
        "print(\"New shape of test images:\", X_test.shape)\n",
        "\n",
        "\n"
      ]
    },
    {
      "cell_type": "markdown",
      "metadata": {
        "id": "C2P2NYGAu3uf"
      },
      "source": [
        "## Build and train a CNN"
      ]
    },
    {
      "cell_type": "code",
      "source": [
        "\n",
        "import matplotlib.pyplot as plt\n",
        "from keras.models import Sequential\n",
        "from keras.layers import Conv2D, MaxPooling2D, Flatten, Dense, BatchNormalization, Dropout\n",
        "\n",
        "\n",
        "model = Sequential()\n",
        "model.add(Conv2D(32, (3,3), activation='relu', input_shape=(28, 28, 1)))\n",
        "model.add(MaxPooling2D((2,2)))\n",
        "model.add(Conv2D(64, (3,3), activation='relu'))\n",
        "model.add(MaxPooling2D((2,2)))\n",
        "model.add(Flatten())\n",
        "model.add(Dense(128, activation='relu'))\n",
        "model.add(Dense(10, activation='softmax'))\n",
        "\n"
      ],
      "metadata": {
        "id": "flgmR4GL4ZBV"
      },
      "execution_count": null,
      "outputs": []
    },
    {
      "cell_type": "code",
      "source": [
        "# Compile the model\n",
        "model.compile(optimizer='adam', loss='categorical_crossentropy', metrics=['accuracy'])\n",
        "\n",
        "\n",
        "# Train the model\n",
        "history_sample=model.fit(X_train, y_train, epochs=7, batch_size=500, validation_split=0.2)\n"
      ],
      "metadata": {
        "id": "EsBT-jSlyo35",
        "colab": {
          "base_uri": "https://localhost:8080/"
        },
        "outputId": "f4e9363a-9085-42c3-e067-5dcf4de0e983"
      },
      "execution_count": 180,
      "outputs": [
        {
          "output_type": "stream",
          "name": "stdout",
          "text": [
            "Epoch 1/7\n",
            "96/96 [==============================] - 43s 439ms/step - loss: 0.0010 - accuracy: 0.9998 - val_loss: 0.0507 - val_accuracy: 0.9912\n",
            "Epoch 2/7\n",
            "96/96 [==============================] - 42s 436ms/step - loss: 6.9454e-04 - accuracy: 0.9998 - val_loss: 0.0492 - val_accuracy: 0.9909\n",
            "Epoch 3/7\n",
            "96/96 [==============================] - 41s 429ms/step - loss: 8.0104e-04 - accuracy: 0.9998 - val_loss: 0.0576 - val_accuracy: 0.9893\n",
            "Epoch 4/7\n",
            "96/96 [==============================] - 39s 405ms/step - loss: 0.0034 - accuracy: 0.9989 - val_loss: 0.0507 - val_accuracy: 0.9906\n",
            "Epoch 5/7\n",
            "96/96 [==============================] - 40s 419ms/step - loss: 0.0019 - accuracy: 0.9992 - val_loss: 0.0540 - val_accuracy: 0.9910\n",
            "Epoch 6/7\n",
            "96/96 [==============================] - 40s 421ms/step - loss: 0.0012 - accuracy: 0.9996 - val_loss: 0.0558 - val_accuracy: 0.9899\n",
            "Epoch 7/7\n",
            "96/96 [==============================] - 43s 449ms/step - loss: 0.0013 - accuracy: 0.9996 - val_loss: 0.0579 - val_accuracy: 0.9897\n"
          ]
        }
      ]
    },
    {
      "cell_type": "markdown",
      "metadata": {
        "id": "LaYsKjVSu9KF"
      },
      "source": [
        "## Evaluate the Model's performance"
      ]
    },
    {
      "cell_type": "code",
      "execution_count": 181,
      "metadata": {
        "id": "-KqzKudQu8rv",
        "colab": {
          "base_uri": "https://localhost:8080/",
          "height": 485
        },
        "outputId": "6f5ef8b4-ce7d-4b67-a028-b3f8b492cf16"
      },
      "outputs": [
        {
          "output_type": "stream",
          "name": "stdout",
          "text": [
            "313/313 [==============================] - 3s 9ms/step - loss: 0.0451 - accuracy: 0.9904\n",
            "Test Accuracy: 0.9904000163078308\n"
          ]
        },
        {
          "output_type": "display_data",
          "data": {
            "text/plain": [
              "<Figure size 640x480 with 1 Axes>"
            ],
            "image/png": "[encoded data removed]"
          },
          "metadata": {}
        }
      ],
      "source": [
        "# Evaluate the model on the test set\n",
        "test_loss, test_accuracy = model.evaluate(X_test, y_test)\n",
        "print(\"Test Accuracy:\", test_accuracy)\n",
        "\n",
        "# Plot the training and validation accuracy over epochs\n",
        "plt.plot(history_sample.history['accuracy'], label='Training Accuracy')\n",
        "plt.plot(history_sample.history['val_accuracy'], label = 'Validation Accuracy')\n",
        "plt.xlabel('Epoch')\n",
        "plt.ylabel('Accuracy')\n",
        "plt.legend()\n",
        "plt.show()\n"
      ]
    }
  ],
  "metadata": {
    "colab": {
      "provenance": []
    },
    "kernelspec": {
      "display_name": "Python 3",
      "name": "python3"
    },
    "language_info": {
      "name": "python"
    }
  },
  "nbformat": 4,
  "nbformat_minor": 0
}